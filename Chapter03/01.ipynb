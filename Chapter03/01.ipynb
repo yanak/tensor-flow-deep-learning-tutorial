{
 "cells": [
  {
   "cell_type": "code",
   "execution_count": 221,
   "metadata": {
    "collapsed": false
   },
   "outputs": [],
   "source": [
    "import tensorflow as tf\n",
    "import numpy as np\n",
    "import matplotlib.pyplot as plt\n",
    "from numpy.random import multivariate_normal, permutation\n",
    "import pandas as pd\n",
    "from pandas import DataFrame, Series\n",
    "\n",
    "np.random.seed(20170521)\n",
    "tf.set_random_seed(20170521)"
   ]
  },
  {
   "cell_type": "code",
   "execution_count": 222,
   "metadata": {
    "collapsed": true
   },
   "outputs": [],
   "source": [
    "def generate_datablock(n, mu, var, t):\n",
    "    data = multivariate_normal(mu, np.eye(2)*var, n)\n",
    "    df = DataFrame(data, columns=['x1','x2'])\n",
    "    df['t'] = t\n",
    "    return df\n",
    "\n",
    "df0 = generate_datablock(15, [7,7], 22, 0)\n",
    "df1 = generate_datablock(15, [22,7], 22, 0)\n",
    "df2 = generate_datablock(10, [7,22], 22, 0)\n",
    "df3 = generate_datablock(25, [20,20], 22, 1)\n",
    "\n",
    "df = pd.concat([df0, df1, df2, df3], ignore_index=True)\n",
    "train_set = df. reindex(permutation(df.index)).reset_index(drop=True)"
   ]
  },
  {
   "cell_type": "code",
   "execution_count": 223,
   "metadata": {
    "collapsed": true
   },
   "outputs": [],
   "source": [
    "train_x = train_set[['x1','x2']].as_matrix()\n",
    "train_t = train_set['t'].as_matrix().reshape([len(train_set), 1])"
   ]
  },
  {
   "cell_type": "code",
   "execution_count": 224,
   "metadata": {
    "collapsed": false
   },
   "outputs": [],
   "source": [
    "num_units = 10\n",
    "mult = train_x.flatten().mean()\n",
    "\n",
    "x = tf.placeholder(tf.float32, [None, 2])\n",
    "\n",
    "w1 = tf.Variable(tf.truncated_normal([2, num_units]))\n",
    "b1 = tf.Variable(tf.zeros([num_units]))\n",
    "hidden1 = tf.nn.tanh(tf.matmul(x, w1) + b1*mult)\n",
    "\n",
    "w0 = tf.Variable(tf.zeros([num_units, 1]))\n",
    "b0 = tf.Variable(tf.zeros([1]))\n",
    "p = tf.nn.sigmoid(tf.matmul(hidden1, w0) + b0*mult)"
   ]
  },
  {
   "cell_type": "code",
   "execution_count": 225,
   "metadata": {
    "collapsed": false
   },
   "outputs": [],
   "source": [
    "t = tf.placeholder(tf.float32, [None, 1])\n",
    "loss = -tf.reduce_sum(t*tf.log(p) + (1-t)*tf.log(1-p))\n",
    "train_step = tf.train.GradientDescentOptimizer(0.0005).minimize(loss)\n",
    "correct_prediction = tf.equal(tf.sign(p-0.5), tf.sign(t-0.5))\n",
    "accuracy = tf.reduce_mean(tf.cast(correct_prediction, tf.float32))"
   ]
  },
  {
   "cell_type": "code",
   "execution_count": 226,
   "metadata": {
    "collapsed": false
   },
   "outputs": [
    {
     "name": "stderr",
     "output_type": "stream",
     "text": [
      "Exception AssertionError: AssertionError(\"Nesting violated for default stack of <type 'weakref'> objects\",) in <bound method InteractiveSession.__del__ of <tensorflow.python.client.session.InteractiveSession object at 0x10eb5890>> ignored\n"
     ]
    }
   ],
   "source": [
    "sess = tf.InteractiveSession()\n",
    "sess.run(tf.initialize_all_variables())"
   ]
  },
  {
   "cell_type": "code",
   "execution_count": 227,
   "metadata": {
    "collapsed": false
   },
   "outputs": [
    {
     "name": "stdout",
     "output_type": "stream",
     "text": [
      "Step: 100, Loss: 37.104675, Accuracy: 0.615385\n",
      "Step: 200, Loss: 27.769638, Accuracy: 0.830769\n",
      "Step: 300, Loss: 21.544859, Accuracy: 0.923077\n",
      "Step: 400, Loss: 19.242115, Accuracy: 0.923077\n",
      "Step: 500, Loss: 17.478498, Accuracy: 0.938462\n",
      "Step: 600, Loss: 16.002857, Accuracy: 0.923077\n",
      "Step: 700, Loss: 14.625329, Accuracy: 0.923077\n",
      "Step: 800, Loss: 13.749343, Accuracy: 0.923077\n",
      "Step: 900, Loss: 13.141710, Accuracy: 0.938462\n",
      "Step: 1000, Loss: 12.700896, Accuracy: 0.938462\n",
      "Step: 1100, Loss: 12.371408, Accuracy: 0.938462\n",
      "Step: 1200, Loss: 12.117070, Accuracy: 0.938462\n",
      "Step: 1300, Loss: 11.906420, Accuracy: 0.938462\n",
      "Step: 1400, Loss: 11.731911, Accuracy: 0.938462\n",
      "Step: 1500, Loss: 11.573263, Accuracy: 0.938462\n",
      "Step: 1600, Loss: 11.366339, Accuracy: 0.938462\n",
      "Step: 1700, Loss: 11.239789, Accuracy: 0.938462\n",
      "Step: 1800, Loss: 11.153106, Accuracy: 0.938462\n",
      "Step: 1900, Loss: 11.070038, Accuracy: 0.938462\n",
      "Step: 2000, Loss: 10.982228, Accuracy: 0.938462\n",
      "Step: 2100, Loss: 10.890866, Accuracy: 0.938462\n",
      "Step: 2200, Loss: 10.792727, Accuracy: 0.938462\n",
      "Step: 2300, Loss: 10.686909, Accuracy: 0.938462\n",
      "Step: 2400, Loss: 10.576289, Accuracy: 0.938462\n",
      "Step: 2500, Loss: 10.458851, Accuracy: 0.938462\n",
      "Step: 2600, Loss: 10.332329, Accuracy: 0.938462\n",
      "Step: 2700, Loss: 10.197484, Accuracy: 0.938462\n",
      "Step: 2800, Loss: 10.059007, Accuracy: 0.938462\n",
      "Step: 2900, Loss: 9.925582, Accuracy: 0.938462\n",
      "Step: 3000, Loss: 9.807212, Accuracy: 0.938462\n",
      "Step: 3100, Loss: 9.709646, Accuracy: 0.938462\n",
      "Step: 3200, Loss: 9.631978, Accuracy: 0.938462\n",
      "Step: 3300, Loss: 9.569800, Accuracy: 0.938462\n",
      "Step: 3400, Loss: 9.519342, Accuracy: 0.938462\n",
      "Step: 3500, Loss: 9.477846, Accuracy: 0.938462\n",
      "Step: 3600, Loss: 9.440497, Accuracy: 0.938462\n",
      "Step: 3700, Loss: 9.391994, Accuracy: 0.938462\n",
      "Step: 3800, Loss: 9.267572, Accuracy: 0.953846\n",
      "Step: 3900, Loss: 9.105515, Accuracy: 0.953846\n",
      "Step: 4000, Loss: 9.078368, Accuracy: 0.953846\n"
     ]
    }
   ],
   "source": [
    "i = 0\n",
    "for _ in range(4000):\n",
    "    i += 1\n",
    "    sess.run(train_step, feed_dict={x:train_x, t:train_t})\n",
    "    if i % 100 == 0:\n",
    "        loss_val, acc_val = sess.run(\n",
    "            [loss, accuracy], feed_dict={x:train_x, t:train_t})\n",
    "        print ('Step: %d, Loss: %f, Accuracy: %f'\n",
    "               % (i, loss_val, acc_val))"
   ]
  },
  {
   "cell_type": "code",
   "execution_count": 228,
   "metadata": {
    "collapsed": false
   },
   "outputs": [
    {
     "data": {
      "text/plain": [
       "<matplotlib.image.AxesImage at 0x12261dd0>"
      ]
     },
     "execution_count": 228,
     "metadata": {},
     "output_type": "execute_result"
    },
    {
     "data": {
      "image/png": "[encoded data removed]",
      "text/plain": [
       "<matplotlib.figure.Figure at 0x15163c10>"
      ]
     },
     "metadata": {},
     "output_type": "display_data"
    }
   ],
   "source": [
    "train_set1 = train_set[train_set['t']==1]\n",
    "train_set2 = train_set[train_set['t']==0]\n",
    "\n",
    "fig = plt.figure(figsize=(6,6))\n",
    "subplot = fig.add_subplot(1,1,1)\n",
    "subplot.set_ylim([0,30])\n",
    "subplot.set_xlim([0,30])\n",
    "subplot.scatter(train_set1.x1, train_set1.x2, marker='x')\n",
    "subplot.scatter(train_set2.x1, train_set2.x2, marker='o')\n",
    "\n",
    "locations = []\n",
    "for x2 in np.linspace(0,30,100):\n",
    "    for x1 in np.linspace(0,30,100):\n",
    "        locations.append((x1,x2))\n",
    "        \n",
    "p_vals = sess.run(p, feed_dict={x:locations})\n",
    "p_vals = p_vals.reshape((100, 100))\n",
    "subplot.imshow(p_vals, origin='lower', extent=(0,30,0,30), cmap=plt.cm.gray_r, alpha=0.5)"
   ]
  },
  {
   "cell_type": "code",
   "execution_count": null,
   "metadata": {
    "collapsed": false
   },
   "outputs": [],
   "source": []
  },
  {
   "cell_type": "code",
   "execution_count": null,
   "metadata": {
    "collapsed": true
   },
   "outputs": [],
   "source": []
  }
 ],
 "metadata": {
  "kernelspec": {
   "display_name": "Python 2",
   "language": "python",
   "name": "python2"
  },
  "language_info": {
   "codemirror_mode": {
    "name": "ipython",
    "version": 2
   },
   "file_extension": ".py",
   "mimetype": "text/x-python",
   "name": "python",
   "nbconvert_exporter": "python",
   "pygments_lexer": "ipython2",
   "version": "2.7.5"
  }
 },
 "nbformat": 4,
 "nbformat_minor": 0
}
