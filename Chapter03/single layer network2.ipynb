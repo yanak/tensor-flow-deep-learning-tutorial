{
 "cells": [
  {
   "cell_type": "code",
   "execution_count": 3,
   "metadata": {
    "collapsed": false
   },
   "outputs": [
    {
     "name": "stdout",
     "output_type": "stream",
     "text": [
      "Extracting /tmp/data/train-images-idx3-ubyte.gz\n",
      "Extracting /tmp/data/train-labels-idx1-ubyte.gz\n",
      "Extracting /tmp/data/t10k-images-idx3-ubyte.gz\n",
      "Extracting /tmp/data/t10k-labels-idx1-ubyte.gz\n"
     ]
    }
   ],
   "source": [
    "import tensorflow as tf\n",
    "import numpy as np\n",
    "import matplotlib.pyplot as plt\n",
    "from tensorflow.examples.tutorials.mnist import input_data\n",
    "\n",
    "np.random.seed(2983439)\n",
    "\n",
    "mnist = input_data.read_data_sets(\"/tmp/data/\", one_hot=True)\n",
    "\n",
    "x = tf.placeholder(tf.float32, [None, 784])\n",
    "w = tf.Variable(tf.zeros([784, 10]))\n",
    "w0 = tf.Variable(tf.zeros([10]))\n",
    "f = tf.matmul(x, w) + w0\n",
    "p = tf.nn.softmax(f)"
   ]
  },
  {
   "cell_type": "code",
   "execution_count": 4,
   "metadata": {
    "collapsed": true
   },
   "outputs": [],
   "source": [
    "t = tf.placeholder(tf.float32, [None, 10])\n",
    "loss = -tf.reduce_sum(t * tf.log(p))\n",
    "train_step = tf.train.AdamOptimizer().minimize(loss)"
   ]
  },
  {
   "cell_type": "code",
   "execution_count": 5,
   "metadata": {
    "collapsed": true
   },
   "outputs": [],
   "source": [
    "correct_prediction = tf.equal(tf.argmax(p, 1), tf.argmax(t, 1))\n",
    "accuracy = tf.reduce_mean(tf.cast(correct_prediction, tf.float32))"
   ]
  },
  {
   "cell_type": "code",
   "execution_count": 6,
   "metadata": {
    "collapsed": true
   },
   "outputs": [],
   "source": [
    "sess = tf.InteractiveSession()\n",
    "sess.run(tf.initialize_all_variables())"
   ]
  },
  {
   "cell_type": "code",
   "execution_count": 7,
   "metadata": {
    "collapsed": false
   },
   "outputs": [
    {
     "name": "stdout",
     "output_type": "stream",
     "text": [
      "Step: 100, Loss: 7747.077148, Accuracy: 0.848400\n",
      "Step: 200, Loss: 5439.362305, Accuracy: 0.879900\n",
      "Step: 300, Loss: 4556.467285, Accuracy: 0.890900\n",
      "Step: 400, Loss: 4132.035156, Accuracy: 0.896100\n",
      "Step: 500, Loss: 3836.139160, Accuracy: 0.902600\n",
      "Step: 600, Loss: 3647.532471, Accuracy: 0.904200\n",
      "Step: 700, Loss: 3515.986328, Accuracy: 0.907500\n",
      "Step: 800, Loss: 3394.334961, Accuracy: 0.908900\n",
      "Step: 900, Loss: 3301.203125, Accuracy: 0.911100\n",
      "Step: 1000, Loss: 3208.051270, Accuracy: 0.913500\n",
      "Step: 1100, Loss: 3144.852051, Accuracy: 0.913700\n",
      "Step: 1200, Loss: 3077.483643, Accuracy: 0.915600\n",
      "Step: 1300, Loss: 3053.515625, Accuracy: 0.916400\n",
      "Step: 1400, Loss: 3022.420898, Accuracy: 0.917200\n",
      "Step: 1500, Loss: 2971.127930, Accuracy: 0.918700\n",
      "Step: 1600, Loss: 2971.068359, Accuracy: 0.918100\n",
      "Step: 1700, Loss: 2918.000977, Accuracy: 0.918300\n",
      "Step: 1800, Loss: 2896.843750, Accuracy: 0.921100\n",
      "Step: 1900, Loss: 2867.323975, Accuracy: 0.921900\n",
      "Step: 2000, Loss: 2861.668945, Accuracy: 0.920100\n"
     ]
    }
   ],
   "source": [
    "i = 0\n",
    "for _ in range(2000):\n",
    "    i += 1\n",
    "    batch_xs, batch_ts = mnist.train.next_batch(100)\n",
    "    sess.run(train_step, feed_dict={x: batch_xs, t: batch_ts})\n",
    "    if i % 100 == 0:\n",
    "        loss_val, acc_val = sess.run([loss, accuracy], feed_dict={x:mnist.test.images, t: mnist.test.labels})\n",
    "        print ('Step: %d, Loss: %f, Accuracy: %f' % (i, loss_val, acc_val))"
   ]
  },
  {
   "cell_type": "code",
   "execution_count": null,
   "metadata": {
    "collapsed": true
   },
   "outputs": [],
   "source": []
  }
 ],
 "metadata": {
  "kernelspec": {
   "display_name": "Python 2",
   "language": "python",
   "name": "python2"
  },
  "language_info": {
   "codemirror_mode": {
    "name": "ipython",
    "version": 2
   },
   "file_extension": ".py",
   "mimetype": "text/x-python",
   "name": "python",
   "nbconvert_exporter": "python",
   "pygments_lexer": "ipython2",
   "version": "2.7.5"
  }
 },
 "nbformat": 4,
 "nbformat_minor": 0
}
